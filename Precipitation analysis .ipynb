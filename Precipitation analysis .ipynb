{
    "cells": [
        {
            "cell_type": "markdown",
            "metadata": {},
            "source": "# Description \nThis notebook analyses commercial sales data"
        },
        {
            "cell_type": "code",
            "execution_count": 1,
            "metadata": {},
            "outputs": [
                {
                    "data": {
                        "text/html": "<div>\n<style scoped>\n    .dataframe tbody tr th:only-of-type {\n        vertical-align: middle;\n    }\n\n    .dataframe tbody tr th {\n        vertical-align: top;\n    }\n\n    .dataframe thead th {\n        text-align: right;\n    }\n</style>\n<table border=\"1\" class=\"dataframe\">\n  <thead>\n    <tr style=\"text-align: right;\">\n      <th></th>\n      <th>CustomerType</th>\n      <th>ClassDescription</th>\n      <th>ChannelDescription</th>\n      <th>SubChannelDescription</th>\n      <th>FiscalYear</th>\n      <th>Sales</th>\n      <th>CustomerMargin</th>\n      <th>Customers</th>\n      <th>Visits</th>\n    </tr>\n  </thead>\n  <tbody>\n    <tr>\n      <th>0</th>\n      <td>Business</td>\n      <td>Commercial</td>\n      <td>Hospitality</td>\n      <td>Events</td>\n      <td>2017</td>\n      <td>8427041.72</td>\n      <td>689454.07</td>\n      <td>281</td>\n      <td>2480</td>\n    </tr>\n    <tr>\n      <th>1</th>\n      <td>Business</td>\n      <td>Commercial</td>\n      <td>Informal retail</td>\n      <td>Buying Group</td>\n      <td>2016</td>\n      <td>879986.87</td>\n      <td>63803.99</td>\n      <td>58</td>\n      <td>458</td>\n    </tr>\n    <tr>\n      <th>2</th>\n      <td>Retail</td>\n      <td>Commercial</td>\n      <td>Informal retail</td>\n      <td>Tavern &amp; Shebeen</td>\n      <td>2017</td>\n      <td>118403.59</td>\n      <td>7133.55</td>\n      <td>5</td>\n      <td>54</td>\n    </tr>\n    <tr>\n      <th>3</th>\n      <td>Retail</td>\n      <td>Commercial</td>\n      <td>Education</td>\n      <td>Primary School</td>\n      <td>2016</td>\n      <td>1122328.62</td>\n      <td>122215.25</td>\n      <td>383</td>\n      <td>1442</td>\n    </tr>\n    <tr>\n      <th>4</th>\n      <td>Business</td>\n      <td>Commercial</td>\n      <td>Re-Distributors</td>\n      <td>Liquor Redist_Trader</td>\n      <td>2016</td>\n      <td>365286.88</td>\n      <td>36152.96</td>\n      <td>1</td>\n      <td>153</td>\n    </tr>\n  </tbody>\n</table>\n</div>",
                        "text/plain": "  CustomerType ClassDescription ChannelDescription SubChannelDescription  \\\n0     Business       Commercial        Hospitality                Events   \n1     Business       Commercial    Informal retail          Buying Group   \n2       Retail       Commercial    Informal retail      Tavern & Shebeen   \n3       Retail       Commercial          Education        Primary School   \n4     Business       Commercial    Re-Distributors  Liquor Redist_Trader   \n\n   FiscalYear       Sales  CustomerMargin  Customers  Visits  \n0        2017  8427041.72       689454.07        281    2480  \n1        2016   879986.87        63803.99         58     458  \n2        2017   118403.59         7133.55          5      54  \n3        2016  1122328.62       122215.25        383    1442  \n4        2016   365286.88        36152.96          1     153  "
                    },
                    "execution_count": 1,
                    "metadata": {},
                    "output_type": "execute_result"
                }
            ],
            "source": "# The code was removed by Watson Studio for sharing."
        },
        {
            "cell_type": "code",
            "execution_count": null,
            "metadata": {},
            "outputs": [],
            "source": ""
        }
    ],
    "metadata": {
        "kernelspec": {
            "display_name": "Python 3.6",
            "language": "python",
            "name": "python3"
        },
        "language_info": {
            "codemirror_mode": {
                "name": "ipython",
                "version": 3
            },
            "file_extension": ".py",
            "mimetype": "text/x-python",
            "name": "python",
            "nbconvert_exporter": "python",
            "pygments_lexer": "ipython3",
            "version": "3.6.9"
        }
    },
    "nbformat": 4,
    "nbformat_minor": 1
}